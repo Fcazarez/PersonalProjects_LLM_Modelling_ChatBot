{
  "cells": [
    {
      "cell_type": "markdown",
      "metadata": {
        "id": "view-in-github",
        "colab_type": "text"
      },
      "source": [
        "<a href=\"https://colab.research.google.com/github/Fcazarez/PersonalProjects_LLM_Modelling_ChatBot/blob/main/chatbot_tf1.ipynb\" target=\"_parent\"><img src=\"https://colab.research.google.com/assets/colab-badge.svg\" alt=\"Open In Colab\"/></a>"
      ]
    },
    {
      "cell_type": "markdown",
      "metadata": {
        "id": "u2VmeHgPrgj8"
      },
      "source": [
        "# LLM with a ChatBot\n"
      ]
    },
    {
      "cell_type": "markdown",
      "metadata": {
        "id": "ci02P3a3rgj_"
      },
      "source": [
        "# Setup environment"
      ]
    },
    {
      "cell_type": "code",
      "execution_count": 22,
      "metadata": {
        "colab": {
          "base_uri": "https://localhost:8080/"
        },
        "id": "MetyzftErgkA",
        "outputId": "acd24ce3-c9a7-4937-9a63-fcdc17b02c60"
      },
      "outputs": [
        {
          "output_type": "stream",
          "name": "stderr",
          "text": [
            "[nltk_data] Downloading package punkt to /root/nltk_data...\n",
            "[nltk_data]   Package punkt is already up-to-date!\n"
          ]
        },
        {
          "output_type": "execute_result",
          "data": {
            "text/plain": [
              "True"
            ]
          },
          "metadata": {},
          "execution_count": 22
        }
      ],
      "source": [
        "# import libraries\n",
        "import nltk\n",
        "from nltk.stem.lancaster import LancasterStemmer\n",
        "\n",
        "import numpy as np\n",
        "import json\n",
        "import random\n",
        "import pickle\n",
        "import requests\n",
        "\n",
        "import tensorflow as tf\n",
        "\n",
        "import nltk\n",
        "nltk.download('punkt')"
      ]
    },
    {
      "cell_type": "markdown",
      "metadata": {
        "id": "82oPdNxcrgkC"
      },
      "source": [
        "# Load and Preprocess Data"
      ]
    },
    {
      "cell_type": "markdown",
      "metadata": {
        "id": "2s7rZx_CrgkC"
      },
      "source": [
        "**Discussion**\n",
        "* The intents file contains the curated information about a smaller subset of Winnipeg Libraries in a Question and Answer format\n",
        "* 'patterns' contains the usual patterns that users would input to query the related information\n",
        "* 'responses' contains the expected results from the organization to answer the query\n",
        "reference: https://wpl.winnipeg.ca/library/"
      ]
    },
    {
      "cell_type": "code",
      "execution_count": 23,
      "metadata": {
        "colab": {
          "base_uri": "https://localhost:8080/"
        },
        "id": "2aYo1Yk1rgkC",
        "outputId": "68d97d4f-45da-4fa3-e97f-a3a96affdfc0"
      },
      "outputs": [
        {
          "output_type": "stream",
          "name": "stdout",
          "text": [
            "{'intents': [{'tag': 'greeting', 'patterns': ['Hi there', 'How are you', 'Is anyone there?', 'Hey', 'Hola', 'Hello', 'Good day'], 'responses': ['Hello, thanks for asking', 'Good to see you again', 'Hi there, how can I help?'], 'context': ['']}, {'tag': 'goodbye', 'patterns': ['Bye', 'See you later', 'Goodbye', 'Nice chatting to you, bye', 'Till next time'], 'responses': ['See you!', 'Have a nice day', 'Bye! Come back again soon.'], 'context': ['']}, {'tag': 'thanks', 'patterns': ['Thanks', 'Thank you', \"That's helpful\", 'Awesome, thanks', 'Thanks for helping me'], 'responses': ['Happy to help!', 'Any time!', 'My pleasure'], 'context': ['']}, {'tag': 'noanswer', 'patterns': [], 'responses': [\"Sorry, can't understand you\", 'Please give me more info', 'Not sure I understand'], 'context': ['']}, {'tag': 'librarycard', 'patterns': ['why library card is important', 'why need a library card'], 'responses': ['Winnipeg Public Library has 20 locations serving the citizens of Winnipeg. The Library offers a variety of services including a broad range of collections, programs for all ages, and information services. Your library card may be used at any branch in the system.'], 'context': ['']}, {'tag': 'howtogetlibrarycard', 'patterns': ['how to get a libracy card', 'where to get a library card'], 'responses': ['To get a card, visit one of our 20 branch locations. Staff in the branch will be happy to assist you in becoming a library member.'], 'context': ['']}, {'tag': 'librarycardfee', 'patterns': ['how much is the library card fee', 'how much is the library card', 'how much is the fee for library card', 'cost library card'], 'responses': ['Library cards are free if you live or pay property or business taxes in the City of Winnipeg.'], 'context': ['']}, {'tag': 'librarycardapplication', 'patterns': ['application form for library card', 'how to apply for library card'], 'responses': ['You can complete an application form (English / French) before coming to the library.'], 'context': ['']}, {'tag': 'whattobringtogetlibrarycard', 'patterns': ['What should I bring to get a library card', 'identification to get library card'], 'responses': ['You will be asked to show acceptable identification when you register for a card.'], 'context': ['']}, {'tag': 'renewlibrarycard', 'patterns': ['How do I renew my library card', 'renew library card'], 'responses': ['To renew your card, please visit one of our 20 branch locations.'], 'context': ['']}, {'tag': 'locations', 'patterns': ['where is the library?', 'how many library in winnipeg'], 'responses': ['Bill and Helen Norrie; Charleswood; Millennium; Munroe; Osborne'], 'context': ['']}, {'tag': 'billandhelen', 'patterns': ['Where is Bill and Helen Norrie Library?', 'Where is Bill and Helen Norrie Library located?', 'Location Bill and Helen Norrie Library'], 'responses': ['15 Poseidon Bay'], 'context': ['']}, {'tag': 'charleswood', 'patterns': ['Where is Charleswood Library?', 'Where is Charleswood Library located?', 'Location Charleswood Library'], 'responses': ['6-4910 Roblin Blvd.'], 'context': ['']}, {'tag': 'millennium', 'patterns': ['Where is Millennium Library?', 'Where is Millennium Library located?', 'Location Millennium Library'], 'responses': ['251 Donald St.'], 'context': ['']}, {'tag': 'munroe', 'patterns': ['Where is Munroe Library?', 'Where is Munroe Library located?', 'Location Munroe Library'], 'responses': ['489 London St.'], 'context': ['']}, {'tag': 'osborne', 'patterns': ['Where is Osborne Library?', 'Where is Osborne Library located?', 'Location Osborne Library'], 'responses': ['625 Osborne St.'], 'context': ['']}]}\n"
          ]
        }
      ],
      "source": [
        "# load data\n",
        "# define the URL of the JSON file\n",
        "url = \"https://raw.githubusercontent.com/wpjerrykwok/LLM-chatBot/main/intents_wpglibrary.json\"\n",
        "\n",
        "#url2 = 'https://raw.githubusercontent.com/iampratheesh/Restaurant-Chatbot/master/intents.json'\n",
        "\n",
        "# make a GET request to the URL\n",
        "response = requests.get(url)\n",
        "\n",
        "# check if the request was successful\n",
        "if response.status_code == 200:\n",
        "    # parse the response as JSON\n",
        "    raw_data = response.json()\n",
        "    # print the raw data\n",
        "    print(raw_data)\n",
        "else:\n",
        "    # handle the error\n",
        "    print(f\"Request failed with status code {response.status_code}\")"
      ]
    },
    {
      "cell_type": "code",
      "execution_count": 24,
      "metadata": {
        "id": "kMfIUx6BrgkD"
      },
      "outputs": [],
      "source": [
        "stemmer = LancasterStemmer()"
      ]
    },
    {
      "cell_type": "code",
      "execution_count": 25,
      "metadata": {
        "id": "ISkq048orgkE"
      },
      "outputs": [],
      "source": [
        "# reminder to delete the pickle file if you change the intents file\n",
        "try:\n",
        "    with open('data.pickle', 'rb') as data_file:\n",
        "        words, labels, training, output = pickle.load(data_file)\n",
        "except:\n",
        "# get the words and labels\n",
        "    words = []\n",
        "    labels = []\n",
        "    docs_x = []\n",
        "    docs_y = []\n",
        "\n",
        "    for intent in raw_data['intents']:\n",
        "        for pattern in intent['patterns']:\n",
        "            tokenized_words = nltk.word_tokenize(pattern)\n",
        "            words.extend(tokenized_words)\n",
        "            docs_x.append(tokenized_words)\n",
        "            docs_y.append(intent['tag'])\n",
        "\n",
        "        if intent['tag'] not in labels:\n",
        "            labels.append(intent['tag'])\n",
        "\n",
        "    # stem the words\n",
        "    words = [stemmer.stem(w.lower()) for w in words if w != '?']\n",
        "    words = sorted(list(set(words)))\n",
        "    labels = sorted(labels)\n",
        "\n",
        "    # create training and output data\n",
        "    training = []\n",
        "    output = []\n",
        "\n",
        "    out_empty = [0 for _ in range(len(labels))]\n",
        "\n",
        "    # one hot encoding\n",
        "    for x, doc in enumerate(docs_x):\n",
        "        bag = []\n",
        "\n",
        "        stemmed_words = [stemmer.stem(w.lower()) for w in doc]\n",
        "\n",
        "        for w in words:\n",
        "            if w in stemmed_words:\n",
        "                bag.append(1)\n",
        "            else:\n",
        "                bag.append(0)\n",
        "\n",
        "        output_row = out_empty[:]\n",
        "        output_row[labels.index(docs_y[x])] = 1\n",
        "\n",
        "        training.append(bag)\n",
        "        output.append(output_row)\n",
        "\n",
        "    # convert to numpy arrays\n",
        "    training = np.array(training)\n",
        "    output = np.array(output)\n",
        "\n",
        "    # save data\n",
        "    with open('data.pickle', 'wb') as data_file:\n",
        "        pickle.dump((words, labels, training, output), data_file)"
      ]
    },
    {
      "cell_type": "markdown",
      "metadata": {
        "id": "at3P-dFfrgkE"
      },
      "source": [
        "# Train the model"
      ]
    },
    {
      "cell_type": "code",
      "execution_count": 26,
      "metadata": {
        "colab": {
          "base_uri": "https://localhost:8080/"
        },
        "id": "txvF3stWrgkF",
        "outputId": "20e561e8-0eaf-4cb7-a919-30ce0ae031fc"
      },
      "outputs": [
        {
          "output_type": "stream",
          "name": "stderr",
          "text": [
            "WARNING:absl:Skipping variable loading for optimizer 'Adam', because it has 1 variables whereas the saved optimizer has 13 variables. \n"
          ]
        }
      ],
      "source": [
        "# build the model\n",
        "model = tf.keras.models.Sequential()\n",
        "model.add(tf.keras.layers.Dense(8, input_shape=[len(training[0])]))\n",
        "model.add(tf.keras.layers.Dense(8))\n",
        "model.add(tf.keras.layers.Dense(len(output[0]), activation='softmax'))\n",
        "\n",
        "model.compile(optimizer='adam', loss='categorical_crossentropy', metrics=['accuracy'])\n",
        "\n",
        "# reminder to delete the model file if you change the model\n",
        "try:\n",
        "    model.load_weights('model.keras')\n",
        "except:\n",
        "    model.fit(training, output, epochs=1000, batch_size=8)\n",
        "    model.save('model.keras')"
      ]
    },
    {
      "cell_type": "code",
      "execution_count": 27,
      "metadata": {
        "id": "LiTQoesMrgkF"
      },
      "outputs": [],
      "source": [
        "# create a bag of words function to be used in the chat\n",
        "def bag_of_words(s, words):\n",
        "    bag = [0 for _ in range(len(words))]\n",
        "\n",
        "    tokenized_words = nltk.word_tokenize(s)\n",
        "    stemmed_words = [stemmer.stem(w.lower()) for w in tokenized_words]\n",
        "\n",
        "    for w in stemmed_words:\n",
        "        for i, word in enumerate(words):\n",
        "            if word == w:\n",
        "                bag[i] = 1\n",
        "\n",
        "    return np.array(bag)"
      ]
    },
    {
      "cell_type": "code",
      "execution_count": 28,
      "metadata": {
        "id": "s2J2h3sOrgkG"
      },
      "outputs": [],
      "source": [
        "# create a chat function\n",
        "def chat():\n",
        "    print('Start talking with the bot! (type quit to stop)')\n",
        "    while True:\n",
        "        inp = input('You: ')\n",
        "        if inp.lower() == 'quit':\n",
        "            break\n",
        "\n",
        "        results = model.predict(np.array([bag_of_words(inp, words)]), verbose=0)\n",
        "        results_index = np.argmax(results)\n",
        "        tag = labels[results_index]\n",
        "\n",
        "        for intent in raw_data['intents']:\n",
        "            if intent['tag'] == tag:\n",
        "                responses = intent['responses']\n",
        "\n",
        "        print('Your iquire was: ' + inp)\n",
        "        print('Bot: ' + random.choice(responses))"
      ]
    },
    {
      "cell_type": "code",
      "execution_count": 29,
      "metadata": {
        "colab": {
          "base_uri": "https://localhost:8080/",
          "height": 425
        },
        "id": "j8nyu1pYrgkG",
        "outputId": "5fdd3e41-4887-4d90-b730-61febff788bf"
      },
      "outputs": [
        {
          "output_type": "stream",
          "name": "stdout",
          "text": [
            "Start talking with the bot! (type quit to stop)\n",
            "You: hey\n",
            "Your iquire was: hey\n",
            "Bot: Good to see you again\n"
          ]
        },
        {
          "output_type": "error",
          "ename": "KeyboardInterrupt",
          "evalue": "ignored",
          "traceback": [
            "\u001b[0;31m---------------------------------------------------------------------------\u001b[0m",
            "\u001b[0;31mKeyboardInterrupt\u001b[0m                         Traceback (most recent call last)",
            "\u001b[0;32m<ipython-input-29-f50837b04b0b>\u001b[0m in \u001b[0;36m<cell line: 2>\u001b[0;34m()\u001b[0m\n\u001b[1;32m      1\u001b[0m \u001b[0;31m# start the chat\u001b[0m\u001b[0;34m\u001b[0m\u001b[0;34m\u001b[0m\u001b[0m\n\u001b[0;32m----> 2\u001b[0;31m \u001b[0mchat\u001b[0m\u001b[0;34m(\u001b[0m\u001b[0;34m)\u001b[0m\u001b[0;34m\u001b[0m\u001b[0;34m\u001b[0m\u001b[0m\n\u001b[0m",
            "\u001b[0;32m<ipython-input-28-1035fdc5efd1>\u001b[0m in \u001b[0;36mchat\u001b[0;34m()\u001b[0m\n\u001b[1;32m      3\u001b[0m     \u001b[0mprint\u001b[0m\u001b[0;34m(\u001b[0m\u001b[0;34m'Start talking with the bot! (type quit to stop)'\u001b[0m\u001b[0;34m)\u001b[0m\u001b[0;34m\u001b[0m\u001b[0;34m\u001b[0m\u001b[0m\n\u001b[1;32m      4\u001b[0m     \u001b[0;32mwhile\u001b[0m \u001b[0;32mTrue\u001b[0m\u001b[0;34m:\u001b[0m\u001b[0;34m\u001b[0m\u001b[0;34m\u001b[0m\u001b[0m\n\u001b[0;32m----> 5\u001b[0;31m         \u001b[0minp\u001b[0m \u001b[0;34m=\u001b[0m \u001b[0minput\u001b[0m\u001b[0;34m(\u001b[0m\u001b[0;34m'You: '\u001b[0m\u001b[0;34m)\u001b[0m\u001b[0;34m\u001b[0m\u001b[0;34m\u001b[0m\u001b[0m\n\u001b[0m\u001b[1;32m      6\u001b[0m         \u001b[0;32mif\u001b[0m \u001b[0minp\u001b[0m\u001b[0;34m.\u001b[0m\u001b[0mlower\u001b[0m\u001b[0;34m(\u001b[0m\u001b[0;34m)\u001b[0m \u001b[0;34m==\u001b[0m \u001b[0;34m'quit'\u001b[0m\u001b[0;34m:\u001b[0m\u001b[0;34m\u001b[0m\u001b[0;34m\u001b[0m\u001b[0m\n\u001b[1;32m      7\u001b[0m             \u001b[0;32mbreak\u001b[0m\u001b[0;34m\u001b[0m\u001b[0;34m\u001b[0m\u001b[0m\n",
            "\u001b[0;32m/usr/local/lib/python3.10/dist-packages/ipykernel/kernelbase.py\u001b[0m in \u001b[0;36mraw_input\u001b[0;34m(self, prompt)\u001b[0m\n\u001b[1;32m    849\u001b[0m                 \u001b[0;34m\"raw_input was called, but this frontend does not support input requests.\"\u001b[0m\u001b[0;34m\u001b[0m\u001b[0;34m\u001b[0m\u001b[0m\n\u001b[1;32m    850\u001b[0m             )\n\u001b[0;32m--> 851\u001b[0;31m         return self._input_request(str(prompt),\n\u001b[0m\u001b[1;32m    852\u001b[0m             \u001b[0mself\u001b[0m\u001b[0;34m.\u001b[0m\u001b[0m_parent_ident\u001b[0m\u001b[0;34m,\u001b[0m\u001b[0;34m\u001b[0m\u001b[0;34m\u001b[0m\u001b[0m\n\u001b[1;32m    853\u001b[0m             \u001b[0mself\u001b[0m\u001b[0;34m.\u001b[0m\u001b[0m_parent_header\u001b[0m\u001b[0;34m,\u001b[0m\u001b[0;34m\u001b[0m\u001b[0;34m\u001b[0m\u001b[0m\n",
            "\u001b[0;32m/usr/local/lib/python3.10/dist-packages/ipykernel/kernelbase.py\u001b[0m in \u001b[0;36m_input_request\u001b[0;34m(self, prompt, ident, parent, password)\u001b[0m\n\u001b[1;32m    893\u001b[0m             \u001b[0;32mexcept\u001b[0m \u001b[0mKeyboardInterrupt\u001b[0m\u001b[0;34m:\u001b[0m\u001b[0;34m\u001b[0m\u001b[0;34m\u001b[0m\u001b[0m\n\u001b[1;32m    894\u001b[0m                 \u001b[0;31m# re-raise KeyboardInterrupt, to truncate traceback\u001b[0m\u001b[0;34m\u001b[0m\u001b[0;34m\u001b[0m\u001b[0m\n\u001b[0;32m--> 895\u001b[0;31m                 \u001b[0;32mraise\u001b[0m \u001b[0mKeyboardInterrupt\u001b[0m\u001b[0;34m(\u001b[0m\u001b[0;34m\"Interrupted by user\"\u001b[0m\u001b[0;34m)\u001b[0m \u001b[0;32mfrom\u001b[0m \u001b[0;32mNone\u001b[0m\u001b[0;34m\u001b[0m\u001b[0;34m\u001b[0m\u001b[0m\n\u001b[0m\u001b[1;32m    896\u001b[0m             \u001b[0;32mexcept\u001b[0m \u001b[0mException\u001b[0m \u001b[0;32mas\u001b[0m \u001b[0me\u001b[0m\u001b[0;34m:\u001b[0m\u001b[0;34m\u001b[0m\u001b[0;34m\u001b[0m\u001b[0m\n\u001b[1;32m    897\u001b[0m                 \u001b[0mself\u001b[0m\u001b[0;34m.\u001b[0m\u001b[0mlog\u001b[0m\u001b[0;34m.\u001b[0m\u001b[0mwarning\u001b[0m\u001b[0;34m(\u001b[0m\u001b[0;34m\"Invalid Message:\"\u001b[0m\u001b[0;34m,\u001b[0m \u001b[0mexc_info\u001b[0m\u001b[0;34m=\u001b[0m\u001b[0;32mTrue\u001b[0m\u001b[0;34m)\u001b[0m\u001b[0;34m\u001b[0m\u001b[0;34m\u001b[0m\u001b[0m\n",
            "\u001b[0;31mKeyboardInterrupt\u001b[0m: Interrupted by user"
          ]
        }
      ],
      "source": [
        "# start the chat\n",
        "chat()"
      ]
    }
  ],
  "metadata": {
    "kernelspec": {
      "display_name": "py3918",
      "language": "python",
      "name": "python3"
    },
    "language_info": {
      "codemirror_mode": {
        "name": "ipython",
        "version": 3
      },
      "file_extension": ".py",
      "mimetype": "text/x-python",
      "name": "python",
      "nbconvert_exporter": "python",
      "pygments_lexer": "ipython3",
      "version": "3.8.18"
    },
    "colab": {
      "provenance": [],
      "include_colab_link": true
    }
  },
  "nbformat": 4,
  "nbformat_minor": 0
}